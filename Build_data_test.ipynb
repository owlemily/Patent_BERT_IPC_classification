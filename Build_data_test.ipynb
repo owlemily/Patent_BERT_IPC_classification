{
  "nbformat": 4,
  "nbformat_minor": 0,
  "metadata": {
    "colab": {
      "provenance": []
    },
    "kernelspec": {
      "name": "python3",
      "display_name": "Python 3"
    },
    "language_info": {
      "name": "python"
    }
  },
  "cells": [
    {
      "cell_type": "code",
      "source": [
        "from google.colab import drive\n",
        "\n",
        "# 구글 드라이브 마운트\n",
        "drive.mount('/content/drive')"
      ],
      "metadata": {
        "colab": {
          "base_uri": "https://localhost:8080/"
        },
        "id": "_bi6X75XijCq",
        "outputId": "32fd9e55-0447-4969-f460-f5590c903883"
      },
      "execution_count": 2,
      "outputs": [
        {
          "output_type": "stream",
          "name": "stdout",
          "text": [
            "Mounted at /content/drive\n"
          ]
        }
      ]
    },
    {
      "cell_type": "markdown",
      "source": [
        "## xml파일 하나로 테스트"
      ],
      "metadata": {
        "id": "C9Uibql3ifIn"
      }
    },
    {
      "cell_type": "code",
      "execution_count": 1,
      "metadata": {
        "id": "e6sol_VGiSxc"
      },
      "outputs": [],
      "source": [
        "import xml.etree.ElementTree as ET\n",
        "import json"
      ]
    },
    {
      "cell_type": "code",
      "source": [
        "# XML 파일 경로\n",
        "xml_file = \"/content/drive/MyDrive/특허데이터/20190115_only_xml/1020170084262.xml\""
      ],
      "metadata": {
        "id": "lAYOCZCSidhv"
      },
      "execution_count": 2,
      "outputs": []
    },
    {
      "cell_type": "code",
      "source": [
        "# 파일을 열어서 내용 읽기 (인코딩 지정)\n",
        "with open(xml_file, \"r\", encoding=\"EUC-KR\") as file:  # \"utf-8\" 대신 실제 인코딩으로 변경\n",
        "    xml_content = file.read()"
      ],
      "metadata": {
        "id": "YvUhTZHKjQJQ"
      },
      "execution_count": 3,
      "outputs": []
    },
    {
      "cell_type": "code",
      "source": [
        "# XML 문자열 파싱\n",
        "root = ET.fromstring(xml_content)"
      ],
      "metadata": {
        "id": "tLJo4DYOi5se"
      },
      "execution_count": 4,
      "outputs": []
    },
    {
      "cell_type": "markdown",
      "source": [
        "## 필요한 데이터 추출"
      ],
      "metadata": {
        "id": "mt1cWKkC4xbe"
      }
    },
    {
      "cell_type": "code",
      "source": [
        "from bs4 import BeautifulSoup\n",
        "import xml.etree.ElementTree as ET"
      ],
      "metadata": {
        "id": "fph5iQzw7zjZ"
      },
      "execution_count": 5,
      "outputs": []
    },
    {
      "cell_type": "code",
      "source": [
        "# 발명 Title추출\n",
        "title_tag = root.find(\".//KR_RequestInformation/KR_InventionTitle\")\n",
        "\n",
        "# Field, Background Art추출\n",
        "description = root.find(\".//description\")\n",
        "if description is not None:\n",
        "    # Field 추출\n",
        "    field_tag = description.find(\"technical-field\")\n",
        "    if field_tag is not None:\n",
        "        field_paragraphs = [p.text.strip() for p in field_tag.findall(\"p\") if p.text]\n",
        "    # Background art추출\n",
        "    background_art_tag = description.find(\"background-art\")\n",
        "    if background_art_tag is not None:\n",
        "        background_paragraphs = [p.text.strip() for p in background_art_tag.findall(\"p\") if p.text]\n",
        "\n",
        "# Summary추출\n",
        "summary_tag = root.find(\".//abstract/summary\")\n",
        "if summary_tag is not None:\n",
        "    # BeautifulSoup을 사용하여 <br/> 태그 처리\n",
        "    soup = BeautifulSoup(ET.tostring(summary_tag, encoding=\"unicode\"), \"html.parser\")\n",
        "\n",
        "extracted_data = {\n",
        "    \"title\": title_tag.text if title_tag is not None else None,\n",
        "    \"field\": \" \".join(field_paragraphs),\n",
        "    \"background_art\": \" \".join(background_paragraphs),\n",
        "    \"summary\": soup.get_text(separator=\" \").strip()\n",
        "}"
      ],
      "metadata": {
        "id": "3TT1xPrLi617"
      },
      "execution_count": 6,
      "outputs": []
    },
    {
      "cell_type": "code",
      "source": [
        "# KR_IPCInformation 내에서만 메인 분류와 서브 분류 검색\n",
        "ipc_info = root.find(\".//KR_Bibliographic/KR_IPCInformation\")  # KR_IPCInformation 요소 찾기\n",
        "main_class_data = {}\n",
        "sub_class_data = []\n",
        "\n",
        "if ipc_info is not None:  # KR_IPCInformation이 존재할 경우\n",
        "    # 메인 분류 추출\n",
        "    main_class = ipc_info.find(\"KR_MainClassification\")\n",
        "    if main_class is not None:\n",
        "        full_code = main_class.text.split(\"\\t\")[0]  # 공백 기준으로 코드와 뒤에 정보 분리\n",
        "        main_class_data = {\n",
        "            \"section\": full_code[0],  # 첫 문자: 섹션 (예: F)\n",
        "            \"class\": full_code[:3],  # 첫 3글자: 클래스 (예: F24)\n",
        "            \"subclass\": full_code.split(\" \")[0]  # 공백 전까지: 서브클래스 (예: F24F)\n",
        "        }\n",
        "\n",
        "    # 서브 분류 추출\n",
        "    sub_classes = ipc_info.findall(\"KR_SubClassification\")\n",
        "    for sub_class in sub_classes:\n",
        "        full_code = sub_class.text.split(\"\\t\")[0]\n",
        "        sub_class_data.append({\n",
        "            \"section\": full_code[0],  # 첫 문자: 섹션 (예: G)\n",
        "            \"class\": full_code[:3],  # 첫 3글자: 클래스 (예: G08)\n",
        "            \"subclass\": full_code.split(\" \")[0]  # 공백 전까지: 서브클래스 (예: G08B)\n",
        "        })\n"
      ],
      "metadata": {
        "id": "pU19hW_bp0ji"
      },
      "execution_count": 7,
      "outputs": []
    },
    {
      "cell_type": "code",
      "source": [
        "#디버깅\n",
        "print(\"Title:\", extracted_data[\"title\"])\n",
        "print(\"Field:\", extracted_data[\"field\"])\n",
        "print(\"Background Art:\", extracted_data[\"background_art\"])\n",
        "print(\"Summary:\", extracted_data['summary'])\n",
        "print(\"Main Classification:\", main_class_data)\n",
        "print(\"Sub Classifications:\", sub_class_data)"
      ],
      "metadata": {
        "colab": {
          "base_uri": "https://localhost:8080/"
        },
        "id": "FettFf4WypN_",
        "outputId": "c4297bad-c8ef-40e1-9d9d-8728a47adf37"
      },
      "execution_count": 8,
      "outputs": [
        {
          "output_type": "stream",
          "name": "stdout",
          "text": [
            "Title: 이동형 공조장치\n",
            "Field: 본 발명은 이동형 공조장치에 관한 것으로서, 보다 상세하게는, 다양한 기능들을 직관적이고 손쉽게 원격 제어할 수 있는 어플리케이션을 구비함으로써, 사용하기 매우 간편하고, 이를 통해, 사용자의 편의성을 개선시킬 수 있는 이동형 공조장치에 관한 것이다.\n",
            "Background Art: 최근 들어, 다양한 이동형 공조장치가 개발되고 있다. 그 일례로서, 본 출원인이 출원한 특허출원 제2016-62734호의 로봇 공조장치, 특허출원 제2016-142990호의 이동형 공조장치 및 그 제어방법, 특허출원 제2016-113730호의 이동형 공조장치 등이 있다. 이 기술은, 공조장치 본체와, 공조장치 본체에 설치되며 냉,온풍을 발생시키는 공조부와, 공조부하를 감지하는 감지부와, 공조장치 본체를 이동시키는 이동부와, 감지부에서 감지된 공조부하측으로 공조부가 이동하여 냉,온풍을 송풍할 수 있도록 이동부와 공조부를 제어하는 제어부를 포함한다. 특히, 감지부는, 공조부하, 예를 들면, 사람을 감지하는 인체감지센서와, 사람주변의 공기조건, 예를 들면, 공기 온도와 습도와 이산화탄소 농도와 미세먼지 농도 등을 감지하는 각종 센서들을 포함한다. 제어부는, 감지부의 각 센서들로부터 입력된 감지 데이터를 처리하여, 최적의 제어값을 산출하고, 산출된 최적의 제어값을 기준으로 공조부를 제어한다. 따라서, 사람이 있는 실내부분에 최적의 온도와 풍량과 습도를 갖는 공기를 송풍할 수 있게 한다. 이로써, 사람이 있는 실내부분을 쾌적하게 유지시킨다. 여기서, 제어부는, 원격제어 단말기, 예를 들면, 스마트폰과 무선통신이 가능하고, 이러한 무선통신을 통해 원격제어가 가능하다. 특히, 스마트폰으로 이동형 공조장치의 공조부를 제어하여 송풍 공기의 온도와 풍량 등을 조절하고, 스마트폰으로 이동형 공조장치를 호출하면, 호출한 스마트폰측으로 공조장치 본체를 이동시켜 호출된 곳을 냉,난방하며, 스마트폰으로 냉,난방이 필요한 곳을 지정하면, 지정된 곳으로 공조장치 본체를 이동시켜 지정된 곳을 냉,난방할 수 있게 한다. 한편, 이러한 이동형 공조장치는, 위에서 설명한 바와 같이, 원격제어 단말기(스마트폰)를 통해 원격제어가 가능한데, 이러한 원격제어를 위해서는 별도의 어플리케이션(Application)이 필요하다. 특히, 위에서 설명한 바와 같이, 이동형 공조장치의 여러 가지 다양한 공조 기능들을 손쉽게 원격 제어하기 위해서는, 이에 맞는 최적의 어플리케이션이 필요하다.\n",
            "Summary: 본 발명은 이동형 공조장치에 관한 것으로서, 다양한 기능들을 직관적이고 손쉽게 원격 제어할 수 있는 어플리케이션을 구비함으로써, 사용하기 매우 간편하고, 이를 통해, 사용자의 편의성을 개선시킬 수 있도록 하는 것을 목적으로 한다. \n",
            "이러한 목적을 달성하기 위하여 본 발명은, 이동이 가능한 공조장치 본체와, 상기 공조장치 본체를 원격지에서 무선 제어할 수 있는 원격제어 단말기를 포함하는 이동형 공조장치에 있어서, 공조장치 본체의 각 기능들을 제어할 수 있도록 원격제어 단말기에 내장되는 공조제어 어플리케이션을 포함하고; 공조제어 어플리케이션은, 실행 시에, 원격제어 단말기의 디스플레이부에 메인화면을 표시하며, 메인화면에는, 공조장치 본체의 각 기능들을 제어할 수 있는 각 기능별 기능 키버튼부들이 표시되고, 메인화면의 각 기능 키버튼부들을 사용자가 눌러서 선택하면, 각 기능별 제어화면으로 각각 진입하여, 각 기능들을 원격 제어할 수 있는 구조이다.\n",
            "Main Classification: {'section': 'F', 'class': 'F24', 'subclass': 'F24F'}\n",
            "Sub Classifications: [{'section': 'G', 'class': 'G08', 'subclass': 'G08B'}, {'section': 'H', 'class': 'H04', 'subclass': 'H04M'}, {'section': 'H', 'class': 'H04', 'subclass': 'H04Q'}]\n"
          ]
        }
      ]
    },
    {
      "cell_type": "markdown",
      "source": [
        "## JSON구조 완성"
      ],
      "metadata": {
        "id": "8zzCa1XY41VI"
      }
    },
    {
      "cell_type": "code",
      "source": [
        "#JSON구조 생성\n",
        "combined_data={\n",
        "    \"title\":extracted_data[\"title\"],\n",
        "    \"field\":extracted_data[\"field\"],\n",
        "    \"background_art\":extracted_data[\"background_art\"],\n",
        "    \"summary\": extracted_data[\"summary\"],\n",
        "    \"main_classification\":main_class_data,\n",
        "    \"sub_classification\":sub_class_data\n",
        "}\n"
      ],
      "metadata": {
        "id": "87B_S6RAjgpN"
      },
      "execution_count": 9,
      "outputs": []
    },
    {
      "cell_type": "code",
      "source": [
        "print(combined_data)"
      ],
      "metadata": {
        "colab": {
          "base_uri": "https://localhost:8080/"
        },
        "id": "ReDSvKkZwvWU",
        "outputId": "02540fc2-4ee7-429d-a6b6-7b239ddee06e"
      },
      "execution_count": 11,
      "outputs": [
        {
          "output_type": "stream",
          "name": "stdout",
          "text": [
            "{'title': '이동형 공조장치', 'field': '본 발명은 이동형 공조장치에 관한 것으로서, 보다 상세하게는, 다양한 기능들을 직관적이고 손쉽게 원격 제어할 수 있는 어플리케이션을 구비함으로써, 사용하기 매우 간편하고, 이를 통해, 사용자의 편의성을 개선시킬 수 있는 이동형 공조장치에 관한 것이다.', 'background_art': '최근 들어, 다양한 이동형 공조장치가 개발되고 있다. 그 일례로서, 본 출원인이 출원한 특허출원 제2016-62734호의 로봇 공조장치, 특허출원 제2016-142990호의 이동형 공조장치 및 그 제어방법, 특허출원 제2016-113730호의 이동형 공조장치 등이 있다. 이 기술은, 공조장치 본체와, 공조장치 본체에 설치되며 냉,온풍을 발생시키는 공조부와, 공조부하를 감지하는 감지부와, 공조장치 본체를 이동시키는 이동부와, 감지부에서 감지된 공조부하측으로 공조부가 이동하여 냉,온풍을 송풍할 수 있도록 이동부와 공조부를 제어하는 제어부를 포함한다. 특히, 감지부는, 공조부하, 예를 들면, 사람을 감지하는 인체감지센서와, 사람주변의 공기조건, 예를 들면, 공기 온도와 습도와 이산화탄소 농도와 미세먼지 농도 등을 감지하는 각종 센서들을 포함한다. 제어부는, 감지부의 각 센서들로부터 입력된 감지 데이터를 처리하여, 최적의 제어값을 산출하고, 산출된 최적의 제어값을 기준으로 공조부를 제어한다. 따라서, 사람이 있는 실내부분에 최적의 온도와 풍량과 습도를 갖는 공기를 송풍할 수 있게 한다. 이로써, 사람이 있는 실내부분을 쾌적하게 유지시킨다. 여기서, 제어부는, 원격제어 단말기, 예를 들면, 스마트폰과 무선통신이 가능하고, 이러한 무선통신을 통해 원격제어가 가능하다. 특히, 스마트폰으로 이동형 공조장치의 공조부를 제어하여 송풍 공기의 온도와 풍량 등을 조절하고, 스마트폰으로 이동형 공조장치를 호출하면, 호출한 스마트폰측으로 공조장치 본체를 이동시켜 호출된 곳을 냉,난방하며, 스마트폰으로 냉,난방이 필요한 곳을 지정하면, 지정된 곳으로 공조장치 본체를 이동시켜 지정된 곳을 냉,난방할 수 있게 한다. 한편, 이러한 이동형 공조장치는, 위에서 설명한 바와 같이, 원격제어 단말기(스마트폰)를 통해 원격제어가 가능한데, 이러한 원격제어를 위해서는 별도의 어플리케이션(Application)이 필요하다. 특히, 위에서 설명한 바와 같이, 이동형 공조장치의 여러 가지 다양한 공조 기능들을 손쉽게 원격 제어하기 위해서는, 이에 맞는 최적의 어플리케이션이 필요하다.', 'summary': '본 발명은 이동형 공조장치에 관한 것으로서, 다양한 기능들을 직관적이고 손쉽게 원격 제어할 수 있는 어플리케이션을 구비함으로써, 사용하기 매우 간편하고, 이를 통해, 사용자의 편의성을 개선시킬 수 있도록 하는 것을 목적으로 한다. \\n이러한 목적을 달성하기 위하여 본 발명은, 이동이 가능한 공조장치 본체와, 상기 공조장치 본체를 원격지에서 무선 제어할 수 있는 원격제어 단말기를 포함하는 이동형 공조장치에 있어서, 공조장치 본체의 각 기능들을 제어할 수 있도록 원격제어 단말기에 내장되는 공조제어 어플리케이션을 포함하고; 공조제어 어플리케이션은, 실행 시에, 원격제어 단말기의 디스플레이부에 메인화면을 표시하며, 메인화면에는, 공조장치 본체의 각 기능들을 제어할 수 있는 각 기능별 기능 키버튼부들이 표시되고, 메인화면의 각 기능 키버튼부들을 사용자가 눌러서 선택하면, 각 기능별 제어화면으로 각각 진입하여, 각 기능들을 원격 제어할 수 있는 구조이다.', 'main_classification': {'section': 'F', 'class': 'F24', 'subclass': 'F24F'}, 'sub_classification': [{'section': 'G', 'class': 'G08', 'subclass': 'G08B'}, {'section': 'H', 'class': 'H04', 'subclass': 'H04M'}, {'section': 'H', 'class': 'H04', 'subclass': 'H04Q'}]}\n"
          ]
        }
      ]
    },
    {
      "cell_type": "markdown",
      "source": [
        "## JSON 파일 저장"
      ],
      "metadata": {
        "id": "WSP4bxpi426R"
      }
    },
    {
      "cell_type": "code",
      "source": [
        "# JSON 파일로 저장\n",
        "output_file = \"ipc_data_v1.0.json\"\n",
        "with open(output_file, \"w\", encoding=\"utf-8\") as json_file:\n",
        "    json.dump(combined_data, json_file, ensure_ascii=False, indent=4)\n",
        "\n",
        "print(f\"JSON 파일이 저장되었습니다: {output_file}\")"
      ],
      "metadata": {
        "colab": {
          "base_uri": "https://localhost:8080/"
        },
        "id": "QDMPF0XMuk9i",
        "outputId": "a8e7d99e-1af1-48d9-f25e-f8f5a5b88442"
      },
      "execution_count": 10,
      "outputs": [
        {
          "output_type": "stream",
          "name": "stdout",
          "text": [
            "JSON 파일이 저장되었습니다: ipc_data_v1.0.json\n"
          ]
        }
      ]
    }
  ]
}